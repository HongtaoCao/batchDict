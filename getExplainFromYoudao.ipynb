{
 "cells": [
  {
   "cell_type": "code",
   "execution_count": 1,
   "metadata": {
    "collapsed": false,
    "deletable": true,
    "editable": true
   },
   "outputs": [],
   "source": [
    "import http.client\n",
    "import json\n",
    "import pandas as pd\n",
    "from pandas import DataFrame, Series\n",
    "import logging\n",
    "import logging.handlers  "
   ]
  },
  {
   "cell_type": "code",
   "execution_count": 2,
   "metadata": {
    "collapsed": false,
    "deletable": true,
    "editable": true
   },
   "outputs": [],
   "source": [
    "# 设置日志\n",
    "LOG_FILE = 'word_explain.log'  \n",
    "  \n",
    "handler = logging.handlers.RotatingFileHandler(LOG_FILE, maxBytes = 1024*1024) # 实例化handler    \n",
    "fmt = '%(asctime)s - %(message)s'  \n",
    "  \n",
    "formatter = logging.Formatter(fmt)   # 实例化formatter   \n",
    "handler.setFormatter(formatter)      # 为handler添加formatter   \n",
    "  \n",
    "logger = logging.getLogger('getExplainFromYoudao')    # 日志文件名\n",
    "logger.addHandler(handler)           # 为logger添加handler   \n",
    "logger.setLevel(logging.DEBUG)  "
   ]
  },
  {
   "cell_type": "code",
   "execution_count": 3,
   "metadata": {
    "collapsed": false,
    "deletable": true,
    "editable": true
   },
   "outputs": [],
   "source": [
    "# 使用有道词典API查询一个单词的含义\n",
    "def getExplain(word, keyFrom, key):\n",
    "    # 有道词典API形如：\n",
    "    # http://fanyi.youdao.com/openapi.do?keyfrom=batchtranslate&key=1679006548&type=data&doctype=json&version=1.1&q=process\n",
    "    youdao_api_url='/openapi.do?keyfrom='+keyFrom + '&key=' + key + '&type=data&doctype=json&version=1.1&q='\n",
    "    try:\n",
    "        conn.request(\"GET\", youdao_api_url + word)\n",
    "    except:\n",
    "        conn = http.client.HTTPConnection(\"fanyi.youdao.com\", 80)\n",
    "        conn.request(\"GET\", youdao_api_url + word)\n",
    "    r1 = conn.getresponse()\n",
    "    # 从返回的JSON字符串中提取出单词释义\n",
    "    data1 = r1.read()\n",
    "    jsonStr = data1.decode('utf-8')\n",
    "    jsonObj = json.loads(jsonStr)\n",
    "    if('basic' in jsonObj):\n",
    "        explainObj = jsonObj['basic']['explains']\n",
    "        firstExplainStr = '  '.join(explainObj)\n",
    "        return firstExplainStr\n",
    "    logger.warning('explain not found, word = ' + word)\n",
    "    return 'NA' # 没有查到释义\n"
   ]
  },
  {
   "cell_type": "code",
   "execution_count": 4,
   "metadata": {
    "collapsed": false,
    "deletable": true,
    "editable": true
   },
   "outputs": [],
   "source": [
    "# 读取单词到DataFrame\n",
    "wordsDataFrame = pd.read_table('/Users/maoshuai/maos/tmp/words.txt',header=None, names=('num','word'))\n",
    "logger.info('word loaded.')"
   ]
  },
  {
   "cell_type": "code",
   "execution_count": 5,
   "metadata": {
    "collapsed": false,
    "deletable": true,
    "editable": true
   },
   "outputs": [
    {
     "name": "stderr",
     "output_type": "stream",
     "text": [
      "/usr/local/lib/python3.6/site-packages/ipykernel/__main__.py:19: DeprecationWarning: The 'warn' method is deprecated, use 'warning' instead\n"
     ]
    }
   ],
   "source": [
    "startRow=1398 # 翻译的起始行，上次断点的地方\n",
    "total = len(wordsDataFrame) # 所有单词数量\n",
    "leftRows = wordsDataFrame[startRow:]\n",
    "count = startRow # 记录正在翻译的行，主要为了记录断点\n",
    "# youdaoDictKeyFrom='batchtranslate'\n",
    "# youdaoDictKey='1679006548'\n",
    "\n",
    "youdaoDictKeyFrom='TEST1234556423'\n",
    "youdaoDictKey='1161529587'\n",
    "\n",
    "while count < total:\n",
    "    word = wordsDataFrame.ix[count, 'word']\n",
    "    try:\n",
    "        explain = getExplain(word, youdaoDictKeyFrom, youdaoDictKey)\n",
    "        wordsDataFrame.ix[count, 'explain'] = explain\n",
    "        logger.info('explain: ' + str(count) + \"/\" + str(total) + \": \" + word)\n",
    "        count += 1\n",
    "    except:\n",
    "        logger.error(\"break row: \" + str(count) + \", word: \" + str(word))\n",
    "        break"
   ]
  },
  {
   "cell_type": "code",
   "execution_count": 6,
   "metadata": {
    "collapsed": false,
    "deletable": true,
    "editable": true
   },
   "outputs": [],
   "source": [
    "# 翻译结果，写到CSV文件\n",
    "if(startRow < count):\n",
    "    explainFile = '/Users/maoshuai/maos/tmp/words_with_explain_' + str(startRow) + '_' + str(count) + '.csv'\n",
    "    wordsDataFrame[startRow:count].to_csv(explainFile)\n",
    "    logger.info('save to: ' + explainFile)\n",
    "else:\n",
    "    logger.info('no file to save')\n"
   ]
  },
  {
   "cell_type": "code",
   "execution_count": null,
   "metadata": {
    "collapsed": true,
    "deletable": true,
    "editable": true
   },
   "outputs": [],
   "source": []
  }
 ],
 "metadata": {
  "kernelspec": {
   "display_name": "Python 3",
   "language": "python",
   "name": "python3"
  },
  "language_info": {
   "codemirror_mode": {
    "name": "ipython",
    "version": 3
   },
   "file_extension": ".py",
   "mimetype": "text/x-python",
   "name": "python",
   "nbconvert_exporter": "python",
   "pygments_lexer": "ipython3",
   "version": "3.6.0"
  }
 },
 "nbformat": 4,
 "nbformat_minor": 2
}
